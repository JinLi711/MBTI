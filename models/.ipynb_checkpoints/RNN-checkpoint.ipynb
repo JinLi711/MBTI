{
 "cells": [
  {
   "cell_type": "code",
   "execution_count": 1,
   "metadata": {},
   "outputs": [
    {
     "name": "stdout",
     "output_type": "stream",
     "text": [
      "Size of Train Set is: 5552\n",
      "Size of Validation Set is: 1388\n",
      "Size of Test Set is: 1735\n"
     ]
    }
   ],
   "source": [
    "import pandas as pd\n",
    "import numpy as np\n",
    "import sys\n",
    "sys.path.insert(0, '../preprocess')\n",
    "\n",
    "import preprocess as pre\n",
    "import embedding as em\n",
    "import plotting\n",
    "import matplotlib.pyplot as plt"
   ]
  },
  {
   "cell_type": "code",
   "execution_count": 2,
   "metadata": {},
   "outputs": [
    {
     "data": {
      "text/html": [
       "<div>\n",
       "<style>\n",
       "    .dataframe thead tr:only-child th {\n",
       "        text-align: right;\n",
       "    }\n",
       "\n",
       "    .dataframe thead th {\n",
       "        text-align: left;\n",
       "    }\n",
       "\n",
       "    .dataframe tbody tr th {\n",
       "        vertical-align: top;\n",
       "    }\n",
       "</style>\n",
       "<table border=\"1\" class=\"dataframe\">\n",
       "  <thead>\n",
       "    <tr style=\"text-align: right;\">\n",
       "      <th></th>\n",
       "      <th>type</th>\n",
       "      <th>posts</th>\n",
       "      <th>Average Words Per Comment</th>\n",
       "      <th>Variance of Word Counts</th>\n",
       "      <th>Cleaned Posts</th>\n",
       "      <th>IE</th>\n",
       "      <th>NS</th>\n",
       "      <th>TF</th>\n",
       "      <th>JP</th>\n",
       "      <th>Average Words Per Comment Scaled</th>\n",
       "      <th>Variance of Word Counts Scaled</th>\n",
       "    </tr>\n",
       "  </thead>\n",
       "  <tbody>\n",
       "    <tr>\n",
       "      <th>570</th>\n",
       "      <td>ISTP</td>\n",
       "      <td>'I journal. Only in times of severe depression...</td>\n",
       "      <td>33.54</td>\n",
       "      <td>64.4096</td>\n",
       "      <td>'i journal. only in times of severe depression...</td>\n",
       "      <td>I</td>\n",
       "      <td>S</td>\n",
       "      <td>T</td>\n",
       "      <td>P</td>\n",
       "      <td>1.441291</td>\n",
       "      <td>-1.493830</td>\n",
       "    </tr>\n",
       "    <tr>\n",
       "      <th>5719</th>\n",
       "      <td>ISFP</td>\n",
       "      <td>'So I've been noticing like the past week or s...</td>\n",
       "      <td>11.38</td>\n",
       "      <td>153.2704</td>\n",
       "      <td>'so i've been noticing like the past week or s...</td>\n",
       "      <td>I</td>\n",
       "      <td>S</td>\n",
       "      <td>F</td>\n",
       "      <td>P</td>\n",
       "      <td>-2.072472</td>\n",
       "      <td>0.318110</td>\n",
       "    </tr>\n",
       "    <tr>\n",
       "      <th>5649</th>\n",
       "      <td>ISFP</td>\n",
       "      <td>'4w5 and i'll still probably never completely ...</td>\n",
       "      <td>29.74</td>\n",
       "      <td>109.2816</td>\n",
       "      <td>' &lt;NUM&gt; w &lt;NUM&gt; and i'll still probably never ...</td>\n",
       "      <td>I</td>\n",
       "      <td>S</td>\n",
       "      <td>F</td>\n",
       "      <td>P</td>\n",
       "      <td>0.838750</td>\n",
       "      <td>-0.578855</td>\n",
       "    </tr>\n",
       "    <tr>\n",
       "      <th>860</th>\n",
       "      <td>INFP</td>\n",
       "      <td>'Even the loner gets lonely. I feel like it's ...</td>\n",
       "      <td>25.34</td>\n",
       "      <td>233.2576</td>\n",
       "      <td>'even the loner gets lonely. i feel like it's ...</td>\n",
       "      <td>I</td>\n",
       "      <td>N</td>\n",
       "      <td>F</td>\n",
       "      <td>P</td>\n",
       "      <td>0.141072</td>\n",
       "      <td>1.949110</td>\n",
       "    </tr>\n",
       "    <tr>\n",
       "      <th>4908</th>\n",
       "      <td>INTJ</td>\n",
       "      <td>'Count me in. Notification of new PM but there...</td>\n",
       "      <td>25.52</td>\n",
       "      <td>170.0900</td>\n",
       "      <td>'count me in. notification of new pm but there...</td>\n",
       "      <td>I</td>\n",
       "      <td>N</td>\n",
       "      <td>T</td>\n",
       "      <td>J</td>\n",
       "      <td>0.169613</td>\n",
       "      <td>0.661074</td>\n",
       "    </tr>\n",
       "  </tbody>\n",
       "</table>\n",
       "</div>"
      ],
      "text/plain": [
       "      type                                              posts  \\\n",
       "570   ISTP  'I journal. Only in times of severe depression...   \n",
       "5719  ISFP  'So I've been noticing like the past week or s...   \n",
       "5649  ISFP  '4w5 and i'll still probably never completely ...   \n",
       "860   INFP  'Even the loner gets lonely. I feel like it's ...   \n",
       "4908  INTJ  'Count me in. Notification of new PM but there...   \n",
       "\n",
       "      Average Words Per Comment  Variance of Word Counts  \\\n",
       "570                       33.54                  64.4096   \n",
       "5719                      11.38                 153.2704   \n",
       "5649                      29.74                 109.2816   \n",
       "860                       25.34                 233.2576   \n",
       "4908                      25.52                 170.0900   \n",
       "\n",
       "                                          Cleaned Posts IE NS TF JP  \\\n",
       "570   'i journal. only in times of severe depression...  I  S  T  P   \n",
       "5719  'so i've been noticing like the past week or s...  I  S  F  P   \n",
       "5649  ' <NUM> w <NUM> and i'll still probably never ...  I  S  F  P   \n",
       "860   'even the loner gets lonely. i feel like it's ...  I  N  F  P   \n",
       "4908  'count me in. notification of new pm but there...  I  N  T  J   \n",
       "\n",
       "      Average Words Per Comment Scaled  Variance of Word Counts Scaled  \n",
       "570                           1.441291                       -1.493830  \n",
       "5719                         -2.072472                        0.318110  \n",
       "5649                          0.838750                       -0.578855  \n",
       "860                           0.141072                        1.949110  \n",
       "4908                          0.169613                        0.661074  "
      ]
     },
     "execution_count": 2,
     "metadata": {},
     "output_type": "execute_result"
    }
   ],
   "source": [
    "train = pre.train\n",
    "valid = pre.valid\n",
    "test = pre.test\n",
    "\n",
    "train.head()"
   ]
  },
  {
   "cell_type": "code",
   "execution_count": 3,
   "metadata": {
    "collapsed": true
   },
   "outputs": [],
   "source": [
    "avg_word_col = train['Average Words Per Comment']\n",
    "\n",
    "# maximum number of words per person, the rest of the comment would be cut off\n",
    "#maxlen = round ((avg_word_col.mean() - 2 * avg_word_col.std()) * 50)\n",
    "maxlen = round (avg_word_col.mean()* 50)\n",
    "\n",
    "max_words = 10000 # maximum number of words in embedding\n",
    "embedding_dim = 100 # dimension of each word vector\n",
    "\n",
    "cleaned_posts = train['Cleaned Posts'].values"
   ]
  },
  {
   "cell_type": "code",
   "execution_count": 4,
   "metadata": {},
   "outputs": [
    {
     "name": "stdout",
     "output_type": "stream",
     "text": [
      "Found 400000 word vectors.\n"
     ]
    },
    {
     "name": "stderr",
     "output_type": "stream",
     "text": [
      "/Users/jinli/anaconda3/lib/python3.6/site-packages/h5py/__init__.py:34: FutureWarning: Conversion of the second argument of issubdtype from `float` to `np.floating` is deprecated. In future, it will be treated as `np.float64 == np.dtype(float).type`.\n",
      "  from ._conv import register_converters as _register_converters\n",
      "Using TensorFlow backend.\n"
     ]
    },
    {
     "name": "stdout",
     "output_type": "stream",
     "text": [
      "Found 86175 unique tokens.\n",
      "Found 43237 unique tokens.\n",
      "Found 47539 unique tokens.\n"
     ]
    }
   ],
   "source": [
    "embeddings_index = em.get_GloVe()\n",
    "word_input, word_index = em.map_words_to_int(\n",
    "    cleaned_posts,\n",
    "    max_words, \n",
    "    maxlen\n",
    ")\n",
    "\n",
    "validX, word_index_valid = em.map_words_to_int(\n",
    "    valid['Cleaned Posts'].values, \n",
    "    max_words,\n",
    "    maxlen\n",
    ")\n",
    "\n",
    "testX, word_index_valid = em.map_words_to_int(\n",
    "    test['Cleaned Posts'].values,\n",
    "    max_words,\n",
    "    maxlen\n",
    ")\n",
    "\n",
    "embedding_matrix = em.create_embedding_matrix (\n",
    "    word_index, \n",
    "    embeddings_index, \n",
    "    max_words, \n",
    "    embedding_dim\n",
    ")"
   ]
  },
  {
   "cell_type": "code",
   "execution_count": 5,
   "metadata": {},
   "outputs": [
    {
     "name": "stdout",
     "output_type": "stream",
     "text": [
      "__________________________________________________________________________________________________\n",
      "Layer (type)                    Output Shape         Param #     Connected to                     \n",
      "==================================================================================================\n",
      "text (InputLayer)               (None, None)         0                                            \n",
      "__________________________________________________________________________________________________\n",
      "Embedding (Embedding)           (None, 1223, 100)    1000000     text[0][0]                       \n",
      "__________________________________________________________________________________________________\n",
      "separable_conv1d_1 (SeparableCo (None, 1217, 32)     3932        Embedding[0][0]                  \n",
      "__________________________________________________________________________________________________\n",
      "max_pooling1d_1 (MaxPooling1D)  (None, 244, 32)      0           separable_conv1d_1[0][0]         \n",
      "__________________________________________________________________________________________________\n",
      "separable_conv1d_2 (SeparableCo (None, 240, 32)      1216        max_pooling1d_1[0][0]            \n",
      "__________________________________________________________________________________________________\n",
      "max_pooling1d_2 (MaxPooling1D)  (None, 60, 32)       0           separable_conv1d_2[0][0]         \n",
      "__________________________________________________________________________________________________\n",
      "batch_normalization_1 (BatchNor (None, 60, 32)       128         max_pooling1d_2[0][0]            \n",
      "__________________________________________________________________________________________________\n",
      "bidirectional_1 (Bidirectional) (None, 60, 64)       12480       batch_normalization_1[0][0]      \n",
      "__________________________________________________________________________________________________\n",
      "gru_2 (GRU)                     (None, 60, 32)       9312        bidirectional_1[0][0]            \n",
      "__________________________________________________________________________________________________\n",
      "gru_3 (GRU)                     (None, 60, 64)       18624       gru_2[0][0]                      \n",
      "__________________________________________________________________________________________________\n",
      "gru_4 (GRU)                     (None, 60, 64)       24768       gru_3[0][0]                      \n",
      "__________________________________________________________________________________________________\n",
      "gru_5 (GRU)                     (None, 128)          74112       gru_4[0][0]                      \n",
      "__________________________________________________________________________________________________\n",
      "dense_1 (Dense)                 (None, 32)           4128        gru_5[0][0]                      \n",
      "__________________________________________________________________________________________________\n",
      "dropout_1 (Dropout)             (None, 32)           0           dense_1[0][0]                    \n",
      "__________________________________________________________________________________________________\n",
      "IE (Dense)                      (None, 2)            66          dropout_1[0][0]                  \n",
      "__________________________________________________________________________________________________\n",
      "NS (Dense)                      (None, 2)            66          dropout_1[0][0]                  \n",
      "__________________________________________________________________________________________________\n",
      "TF (Dense)                      (None, 2)            66          dropout_1[0][0]                  \n",
      "__________________________________________________________________________________________________\n",
      "JP (Dense)                      (None, 2)            66          dropout_1[0][0]                  \n",
      "==================================================================================================\n",
      "Total params: 1,148,964\n",
      "Trainable params: 148,900\n",
      "Non-trainable params: 1,000,064\n",
      "__________________________________________________________________________________________________\n"
     ]
    }
   ],
   "source": [
    "from keras.models import Sequential\n",
    "from keras import layers\n",
    "from keras.layers import Input\n",
    "from keras.models import Model\n",
    "from keras.layers.normalization import BatchNormalization\n",
    "from keras import regularizers\n",
    "\n",
    "text_input = Input(shape=(None,), dtype='int32', name='text')\n",
    "embedding_text = layers.Embedding(\n",
    "    max_words, \n",
    "    embedding_dim, \n",
    "    input_length=maxlen,\n",
    "    name='Embedding'\n",
    ")(text_input)\n",
    "\n",
    "m = layers.SeparableConv1D(32, 7, activation='relu')(embedding_text)\n",
    "m = layers.MaxPooling1D(5, padding=\"same\")(m)\n",
    "\n",
    "m = layers.SeparableConv1D(32, 5, activation='relu')(m)\n",
    "m = layers.MaxPooling1D(4, padding=\"same\")(m)\n",
    "\n",
    "m = BatchNormalization()(m)\n",
    "\n",
    "m = layers.Bidirectional(\n",
    "    layers.GRU(\n",
    "        32, \n",
    "        return_sequences=True)\n",
    ")(m)\n",
    "m = layers.GRU(\n",
    "    32, \n",
    "    dropout=0.1,\n",
    "    recurrent_dropout=0.5,  \n",
    "    return_sequences=True\n",
    ")(m)\n",
    "m = layers.GRU(\n",
    "    64, \n",
    "    dropout=0.1,\n",
    "    recurrent_dropout=0.5,  \n",
    "    return_sequences=True\n",
    ")(m)\n",
    "m = layers.GRU(\n",
    "    64, \n",
    "    dropout=0.1,\n",
    "    recurrent_dropout=0.5,  \n",
    "    return_sequences=True\n",
    ")(m)\n",
    "m = layers.GRU(128)(m)\n",
    "m = layers.Dense(32, activation='relu', kernel_regularizer=regularizers.l1(0.001))(m)\n",
    "m = layers.Dropout(.5)(m)\n",
    "\n",
    "IE = layers.Dense(2, activation='softmax', name=\"IE\")(m)\n",
    "NS = layers.Dense(2, activation='softmax', name=\"NS\")(m)\n",
    "TF = layers.Dense(2, activation='softmax', name=\"TF\")(m)\n",
    "JP = layers.Dense(2, activation='softmax', name=\"JP\")(m)\n",
    "\n",
    "model = Model(text_input, [IE, NS, TF, JP])\n",
    "model.layers[1].set_weights([embedding_matrix])\n",
    "model.layers[1].trainable = False\n",
    "\n",
    "model.summary()"
   ]
  },
  {
   "cell_type": "code",
   "execution_count": 6,
   "metadata": {
    "collapsed": true
   },
   "outputs": [],
   "source": [
    "from keras.callbacks import ModelCheckpoint, LearningRateScheduler, \\\n",
    "    EarlyStopping, ReduceLROnPlateau, TensorBoard\n",
    "\n",
    "weight_path = \"{}_weights.best.hdf5\".format('RNN/RNN')\n",
    "\n",
    "checkpoint = ModelCheckpoint(\n",
    "    weight_path,\n",
    "    monitor='val_loss',\n",
    "    verbose=1,\n",
    "    save_best_only=True,\n",
    "    mode='min',\n",
    "    save_weights_only=True\n",
    ")\n",
    "\n",
    "tensorboard = TensorBoard(\n",
    "    log_dir='RNN/Logs',\n",
    "    # couldn't get histogram to work\n",
    "    #histogram_freq=1, # records activation histogram every n epoch\n",
    "    # couldn't get the embedding to work\n",
    "    #embeddings_freq=1,\n",
    "    #embeddings_metadata='metadata.tsv',\n",
    "    #embeddings_data=validX\n",
    ")\n",
    "\n",
    "reduceLROnPlat = ReduceLROnPlateau(\n",
    "    monitor='val_loss', \n",
    "    factor=0.2,\n",
    "    patience=1, \n",
    "    verbose=1,\n",
    "    mode='min',\n",
    "    min_delta=0.0001, \n",
    "    cooldown=2, \n",
    "    min_lr=1e-7\n",
    ")\n",
    "\n",
    "\n",
    "def step_decay(epoch):\n",
    "    initial_lrate = 0.0001\n",
    "    drop = 0.5\n",
    "    epochs_drop = 10.0\n",
    "    lrate = initial_lrate * math.pow(drop, math.floor((1+epoch)/epochs_drop))\n",
    "    return lrate\n",
    "\n",
    "\n",
    "lrate = LearningRateScheduler(step_decay)  # can place this in call_backs_list\n",
    "\n",
    "early = EarlyStopping(\n",
    "    monitor=\"val_loss\",\n",
    "    #monitor='acc'\n",
    "    mode=\"min\",\n",
    "    verbose=2,\n",
    "    # training is interrupted when the monitor argument stops improving after n steps\n",
    "    patience=3\n",
    ")\n",
    "\n",
    "callbacks_list = [checkpoint, early, reduceLROnPlat, tensorboard]"
   ]
  },
  {
   "cell_type": "code",
   "execution_count": 7,
   "metadata": {
    "collapsed": true
   },
   "outputs": [],
   "source": [
    "model.compile(\n",
    "    # optimizer='sgd',\n",
    "    optimizer='rmsprop',\n",
    "    loss={'IE': 'binary_crossentropy',\n",
    "          'NS': 'binary_crossentropy',\n",
    "          'TF': 'binary_crossentropy',\n",
    "          'JP': 'binary_crossentropy',\n",
    "          },\n",
    "    metrics=['acc']\n",
    ")"
   ]
  },
  {
   "cell_type": "code",
   "execution_count": 8,
   "metadata": {},
   "outputs": [
    {
     "name": "stdout",
     "output_type": "stream",
     "text": [
      "['E' 'I']\n",
      "['N' 'S']\n",
      "['F' 'T']\n",
      "['J' 'P']\n"
     ]
    }
   ],
   "source": [
    "def encode_labels(train, valid, test, labels):\n",
    "    from keras.utils import to_categorical\n",
    "    from sklearn.preprocessing import LabelEncoder\n",
    "\n",
    "    train_encoded_list = []\n",
    "    valid_encoded_list = []\n",
    "    test_encoded_list = []\n",
    "    for label in labels:\n",
    "        lab_encoder_trait = LabelEncoder()\n",
    "\n",
    "        train_label_trait = train[label]\n",
    "        valid_label_trait = valid[label]\n",
    "        test_label_trait = test[label]\n",
    "\n",
    "        label_encoded = lab_encoder_trait.fit_transform(train_label_trait)\n",
    "        label_encoded = to_categorical(label_encoded)\n",
    "        train_encoded_list.append(label_encoded)\n",
    "\n",
    "        label_encoded = lab_encoder_trait.fit_transform(valid_label_trait)\n",
    "        label_encoded = to_categorical(label_encoded)\n",
    "        valid_encoded_list.append(label_encoded)\n",
    "\n",
    "        label_encoded = lab_encoder_trait.fit_transform(test_label_trait)\n",
    "        label_encoded = to_categorical(label_encoded)\n",
    "        test_encoded_list.append(label_encoded)\n",
    "\n",
    "        print(lab_encoder_trait.classes_)\n",
    "\n",
    "    return (train_encoded_list, valid_encoded_list, test_encoded_list)\n",
    "\n",
    "\n",
    "(train_encoded_list,\n",
    " valid_encoded_list,\n",
    " test_encoded_list) = encode_labels(train, valid, test, ['IE', 'NS', 'TF', 'JP'])"
   ]
  },
  {
   "cell_type": "code",
   "execution_count": 9,
   "metadata": {},
   "outputs": [],
   "source": [
    "epochs = 20\n",
    "batch_size = 100"
   ]
  },
  {
   "cell_type": "code",
   "execution_count": 10,
   "metadata": {},
   "outputs": [
    {
     "name": "stdout",
     "output_type": "stream",
     "text": [
      "Train on 5552 samples, validate on 1388 samples\n",
      "Epoch 1/20\n",
      "5552/5552 [==============================] - 44s 8ms/step - loss: 2.7912 - IE_loss: 0.5710 - NS_loss: 0.4794 - TF_loss: 0.7136 - JP_loss: 0.7031 - IE_acc: 0.7657 - NS_acc: 0.8435 - TF_acc: 0.4948 - JP_acc: 0.5528 - val_loss: 2.6059 - val_IE_loss: 0.5705 - val_NS_loss: 0.3995 - val_TF_loss: 0.6986 - val_JP_loss: 0.6675 - val_IE_acc: 0.7442 - val_NS_acc: 0.8689 - val_TF_acc: 0.4791 - val_JP_acc: 0.6232\n",
      "\n",
      "Epoch 00001: val_loss improved from inf to 2.60590, saving model to RNN/RNN_weights.best.hdf5\n",
      "Epoch 2/20\n",
      "5552/5552 [==============================] - 34s 6ms/step - loss: 2.5774 - IE_loss: 0.5489 - NS_loss: 0.4288 - TF_loss: 0.6800 - JP_loss: 0.6949 - IE_acc: 0.7749 - NS_acc: 0.8613 - TF_acc: 0.5724 - JP_acc: 0.5587 - val_loss: 2.7205 - val_IE_loss: 0.6074 - val_NS_loss: 0.3901 - val_TF_loss: 0.8305 - val_JP_loss: 0.7094 - val_IE_acc: 0.7442 - val_NS_acc: 0.8689 - val_TF_acc: 0.4777 - val_JP_acc: 0.3725\n",
      "\n",
      "Epoch 00002: val_loss did not improve from 2.60590\n",
      "\n",
      "Epoch 00002: ReduceLROnPlateau reducing learning rate to 0.00020000000949949026.\n",
      "Epoch 3/20\n",
      "5552/5552 [==============================] - 34s 6ms/step - loss: 2.4734 - IE_loss: 0.5413 - NS_loss: 0.4171 - TF_loss: 0.6511 - JP_loss: 0.6883 - IE_acc: 0.7754 - NS_acc: 0.8615 - TF_acc: 0.6275 - JP_acc: 0.5666 - val_loss: 2.5333 - val_IE_loss: 0.5714 - val_NS_loss: 0.4148 - val_TF_loss: 0.7006 - val_JP_loss: 0.6778 - val_IE_acc: 0.7442 - val_NS_acc: 0.8689 - val_TF_acc: 0.5101 - val_JP_acc: 0.6189\n",
      "\n",
      "Epoch 00003: val_loss improved from 2.60590 to 2.53326, saving model to RNN/RNN_weights.best.hdf5\n",
      "Epoch 4/20\n",
      "5552/5552 [==============================] - 34s 6ms/step - loss: 2.4526 - IE_loss: 0.5444 - NS_loss: 0.4131 - TF_loss: 0.6486 - JP_loss: 0.6840 - IE_acc: 0.7758 - NS_acc: 0.8615 - TF_acc: 0.6270 - JP_acc: 0.5755 - val_loss: 2.4838 - val_IE_loss: 0.5696 - val_NS_loss: 0.4052 - val_TF_loss: 0.6833 - val_JP_loss: 0.6693 - val_IE_acc: 0.7442 - val_NS_acc: 0.8689 - val_TF_acc: 0.5620 - val_JP_acc: 0.6210\n",
      "\n",
      "Epoch 00004: val_loss improved from 2.53326 to 2.48383, saving model to RNN/RNN_weights.best.hdf5\n",
      "Epoch 5/20\n",
      "5552/5552 [==============================] - 35s 6ms/step - loss: 2.4303 - IE_loss: 0.5402 - NS_loss: 0.4170 - TF_loss: 0.6386 - JP_loss: 0.6836 - IE_acc: 0.7754 - NS_acc: 0.8615 - TF_acc: 0.6410 - JP_acc: 0.5720 - val_loss: 2.4928 - val_IE_loss: 0.5734 - val_NS_loss: 0.4212 - val_TF_loss: 0.6843 - val_JP_loss: 0.6681 - val_IE_acc: 0.7442 - val_NS_acc: 0.8689 - val_TF_acc: 0.5620 - val_JP_acc: 0.6182\n",
      "\n",
      "Epoch 00005: val_loss did not improve from 2.48383\n",
      "\n",
      "Epoch 00005: ReduceLROnPlateau reducing learning rate to 4.0000001899898055e-05.\n",
      "Epoch 6/20\n",
      "5552/5552 [==============================] - 34s 6ms/step - loss: 2.4065 - IE_loss: 0.5360 - NS_loss: 0.4051 - TF_loss: 0.6359 - JP_loss: 0.6851 - IE_acc: 0.7759 - NS_acc: 0.8615 - TF_acc: 0.6459 - JP_acc: 0.5744 - val_loss: 2.4723 - val_IE_loss: 0.5699 - val_NS_loss: 0.4065 - val_TF_loss: 0.6837 - val_JP_loss: 0.6690 - val_IE_acc: 0.7442 - val_NS_acc: 0.8689 - val_TF_acc: 0.5591 - val_JP_acc: 0.6196\n",
      "\n",
      "Epoch 00006: val_loss improved from 2.48383 to 2.47234, saving model to RNN/RNN_weights.best.hdf5\n",
      "Epoch 7/20\n",
      "5552/5552 [==============================] - 34s 6ms/step - loss: 2.4012 - IE_loss: 0.5372 - NS_loss: 0.4090 - TF_loss: 0.6287 - JP_loss: 0.6839 - IE_acc: 0.7756 - NS_acc: 0.8615 - TF_acc: 0.6612 - JP_acc: 0.5803 - val_loss: 2.4675 - val_IE_loss: 0.5694 - val_NS_loss: 0.4023 - val_TF_loss: 0.6838 - val_JP_loss: 0.6704 - val_IE_acc: 0.7442 - val_NS_acc: 0.8689 - val_TF_acc: 0.5569 - val_JP_acc: 0.6182\n",
      "\n",
      "Epoch 00007: val_loss improved from 2.47234 to 2.46750, saving model to RNN/RNN_weights.best.hdf5\n",
      "Epoch 8/20\n",
      "5552/5552 [==============================] - 34s 6ms/step - loss: 2.4037 - IE_loss: 0.5397 - NS_loss: 0.4082 - TF_loss: 0.6309 - JP_loss: 0.6843 - IE_acc: 0.7756 - NS_acc: 0.8615 - TF_acc: 0.6547 - JP_acc: 0.5674 - val_loss: 2.4618 - val_IE_loss: 0.5693 - val_NS_loss: 0.3988 - val_TF_loss: 0.6840 - val_JP_loss: 0.6702 - val_IE_acc: 0.7442 - val_NS_acc: 0.8689 - val_TF_acc: 0.5598 - val_JP_acc: 0.6182\n",
      "\n",
      "Epoch 00008: val_loss improved from 2.46750 to 2.46178, saving model to RNN/RNN_weights.best.hdf5\n",
      "Epoch 9/20\n",
      "5552/5552 [==============================] - 34s 6ms/step - loss: 2.3933 - IE_loss: 0.5369 - NS_loss: 0.4040 - TF_loss: 0.6269 - JP_loss: 0.6868 - IE_acc: 0.7756 - NS_acc: 0.8615 - TF_acc: 0.6531 - JP_acc: 0.5751 - val_loss: 2.4638 - val_IE_loss: 0.5695 - val_NS_loss: 0.3995 - val_TF_loss: 0.6852 - val_JP_loss: 0.6720 - val_IE_acc: 0.7442 - val_NS_acc: 0.8689 - val_TF_acc: 0.5591 - val_JP_acc: 0.6189\n",
      "\n",
      "Epoch 00009: val_loss did not improve from 2.46178\n",
      "\n",
      "Epoch 00009: ReduceLROnPlateau reducing learning rate to 8.000000525498762e-06.\n",
      "Epoch 10/20\n",
      "5552/5552 [==============================] - 34s 6ms/step - loss: 2.3840 - IE_loss: 0.5365 - NS_loss: 0.4005 - TF_loss: 0.6258 - JP_loss: 0.6837 - IE_acc: 0.7758 - NS_acc: 0.8615 - TF_acc: 0.6635 - JP_acc: 0.5722 - val_loss: 2.4563 - val_IE_loss: 0.5697 - val_NS_loss: 0.3955 - val_TF_loss: 0.6845 - val_JP_loss: 0.6693 - val_IE_acc: 0.7442 - val_NS_acc: 0.8689 - val_TF_acc: 0.5620 - val_JP_acc: 0.6174\n",
      "\n",
      "Epoch 00010: val_loss improved from 2.46178 to 2.45630, saving model to RNN/RNN_weights.best.hdf5\n",
      "Epoch 11/20\n",
      "5552/5552 [==============================] - 34s 6ms/step - loss: 2.3860 - IE_loss: 0.5358 - NS_loss: 0.4006 - TF_loss: 0.6267 - JP_loss: 0.6857 - IE_acc: 0.7756 - NS_acc: 0.8615 - TF_acc: 0.6571 - JP_acc: 0.5746 - val_loss: 2.4549 - val_IE_loss: 0.5700 - val_NS_loss: 0.3943 - val_TF_loss: 0.6847 - val_JP_loss: 0.6691 - val_IE_acc: 0.7442 - val_NS_acc: 0.8689 - val_TF_acc: 0.5634 - val_JP_acc: 0.6182\n",
      "\n",
      "Epoch 00011: val_loss improved from 2.45630 to 2.45495, saving model to RNN/RNN_weights.best.hdf5\n",
      "Epoch 12/20\n",
      "5552/5552 [==============================] - 35s 6ms/step - loss: 2.3827 - IE_loss: 0.5324 - NS_loss: 0.4053 - TF_loss: 0.6265 - JP_loss: 0.6818 - IE_acc: 0.7756 - NS_acc: 0.8615 - TF_acc: 0.6605 - JP_acc: 0.5798 - val_loss: 2.4546 - val_IE_loss: 0.5702 - val_NS_loss: 0.3939 - val_TF_loss: 0.6848 - val_JP_loss: 0.6692 - val_IE_acc: 0.7442 - val_NS_acc: 0.8689 - val_TF_acc: 0.5598 - val_JP_acc: 0.6174\n",
      "\n",
      "Epoch 00012: val_loss improved from 2.45495 to 2.45456, saving model to RNN/RNN_weights.best.hdf5\n",
      "Epoch 13/20\n",
      "5552/5552 [==============================] - 34s 6ms/step - loss: 2.3853 - IE_loss: 0.5378 - NS_loss: 0.4028 - TF_loss: 0.6238 - JP_loss: 0.6846 - IE_acc: 0.7758 - NS_acc: 0.8615 - TF_acc: 0.6643 - JP_acc: 0.5674 - val_loss: 2.4537 - val_IE_loss: 0.5705 - val_NS_loss: 0.3932 - val_TF_loss: 0.6852 - val_JP_loss: 0.6686 - val_IE_acc: 0.7442 - val_NS_acc: 0.8689 - val_TF_acc: 0.5620 - val_JP_acc: 0.6182\n",
      "\n",
      "Epoch 00013: val_loss improved from 2.45456 to 2.45369, saving model to RNN/RNN_weights.best.hdf5\n",
      "Epoch 14/20\n",
      "5552/5552 [==============================] - 34s 6ms/step - loss: 2.3885 - IE_loss: 0.5366 - NS_loss: 0.4033 - TF_loss: 0.6272 - JP_loss: 0.6855 - IE_acc: 0.7758 - NS_acc: 0.8615 - TF_acc: 0.6596 - JP_acc: 0.5715 - val_loss: 2.4538 - val_IE_loss: 0.5705 - val_NS_loss: 0.3934 - val_TF_loss: 0.6855 - val_JP_loss: 0.6686 - val_IE_acc: 0.7442 - val_NS_acc: 0.8689 - val_TF_acc: 0.5598 - val_JP_acc: 0.6182\n",
      "\n",
      "Epoch 00014: val_loss did not improve from 2.45369\n",
      "\n",
      "Epoch 00014: ReduceLROnPlateau reducing learning rate to 1.6000001778593287e-06.\n",
      "Epoch 15/20\n",
      "5552/5552 [==============================] - 36s 6ms/step - loss: 2.3876 - IE_loss: 0.5382 - NS_loss: 0.4044 - TF_loss: 0.6272 - JP_loss: 0.6820 - IE_acc: 0.7758 - NS_acc: 0.8615 - TF_acc: 0.6583 - JP_acc: 0.5747 - val_loss: 2.4536 - val_IE_loss: 0.5706 - val_NS_loss: 0.3932 - val_TF_loss: 0.6857 - val_JP_loss: 0.6685 - val_IE_acc: 0.7442 - val_NS_acc: 0.8689 - val_TF_acc: 0.5562 - val_JP_acc: 0.6182\n",
      "\n",
      "Epoch 00015: val_loss improved from 2.45369 to 2.45364, saving model to RNN/RNN_weights.best.hdf5\n",
      "Epoch 16/20\n",
      "5552/5552 [==============================] - 33s 6ms/step - loss: 2.3836 - IE_loss: 0.5360 - NS_loss: 0.4031 - TF_loss: 0.6270 - JP_loss: 0.6819 - IE_acc: 0.7754 - NS_acc: 0.8615 - TF_acc: 0.6562 - JP_acc: 0.5785 - val_loss: 2.4536 - val_IE_loss: 0.5706 - val_NS_loss: 0.3931 - val_TF_loss: 0.6858 - val_JP_loss: 0.6685 - val_IE_acc: 0.7442 - val_NS_acc: 0.8689 - val_TF_acc: 0.5576 - val_JP_acc: 0.6182\n"
     ]
    },
    {
     "name": "stdout",
     "output_type": "stream",
     "text": [
      "\n",
      "Epoch 00016: val_loss improved from 2.45364 to 2.45359, saving model to RNN/RNN_weights.best.hdf5\n",
      "Epoch 17/20\n",
      "5552/5552 [==============================] - 34s 6ms/step - loss: 2.3816 - IE_loss: 0.5345 - NS_loss: 0.4048 - TF_loss: 0.6225 - JP_loss: 0.6843 - IE_acc: 0.7758 - NS_acc: 0.8615 - TF_acc: 0.6619 - JP_acc: 0.5764 - val_loss: 2.4535 - val_IE_loss: 0.5707 - val_NS_loss: 0.3929 - val_TF_loss: 0.6859 - val_JP_loss: 0.6684 - val_IE_acc: 0.7442 - val_NS_acc: 0.8689 - val_TF_acc: 0.5584 - val_JP_acc: 0.6182\n",
      "\n",
      "Epoch 00017: val_loss improved from 2.45359 to 2.45354, saving model to RNN/RNN_weights.best.hdf5\n",
      "\n",
      "Epoch 00017: ReduceLROnPlateau reducing learning rate to 3.200000264769187e-07.\n",
      "Epoch 18/20\n",
      "5552/5552 [==============================] - 34s 6ms/step - loss: 2.3860 - IE_loss: 0.5401 - NS_loss: 0.4011 - TF_loss: 0.6276 - JP_loss: 0.6817 - IE_acc: 0.7756 - NS_acc: 0.8615 - TF_acc: 0.6623 - JP_acc: 0.5780 - val_loss: 2.4535 - val_IE_loss: 0.5708 - val_NS_loss: 0.3928 - val_TF_loss: 0.6860 - val_JP_loss: 0.6684 - val_IE_acc: 0.7442 - val_NS_acc: 0.8689 - val_TF_acc: 0.5598 - val_JP_acc: 0.6182\n",
      "\n",
      "Epoch 00018: val_loss improved from 2.45354 to 2.45347, saving model to RNN/RNN_weights.best.hdf5\n",
      "Epoch 19/20\n",
      "5552/5552 [==============================] - 33s 6ms/step - loss: 2.3894 - IE_loss: 0.5380 - NS_loss: 0.4052 - TF_loss: 0.6235 - JP_loss: 0.6871 - IE_acc: 0.7758 - NS_acc: 0.8615 - TF_acc: 0.6608 - JP_acc: 0.5728 - val_loss: 2.4535 - val_IE_loss: 0.5708 - val_NS_loss: 0.3928 - val_TF_loss: 0.6860 - val_JP_loss: 0.6684 - val_IE_acc: 0.7442 - val_NS_acc: 0.8689 - val_TF_acc: 0.5605 - val_JP_acc: 0.6182\n",
      "\n",
      "Epoch 00019: val_loss improved from 2.45347 to 2.45346, saving model to RNN/RNN_weights.best.hdf5\n",
      "\n",
      "Epoch 00019: ReduceLROnPlateau reducing learning rate to 1e-07.\n",
      "Epoch 20/20\n",
      "5552/5552 [==============================] - 35s 6ms/step - loss: 2.3857 - IE_loss: 0.5382 - NS_loss: 0.4055 - TF_loss: 0.6224 - JP_loss: 0.6842 - IE_acc: 0.7758 - NS_acc: 0.8615 - TF_acc: 0.6630 - JP_acc: 0.5769 - val_loss: 2.4534 - val_IE_loss: 0.5708 - val_NS_loss: 0.3928 - val_TF_loss: 0.6860 - val_JP_loss: 0.6683 - val_IE_acc: 0.7442 - val_NS_acc: 0.8689 - val_TF_acc: 0.5598 - val_JP_acc: 0.6182\n",
      "\n",
      "Epoch 00020: val_loss improved from 2.45346 to 2.45344, saving model to RNN/RNN_weights.best.hdf5\n"
     ]
    }
   ],
   "source": [
    "history = model.fit(\n",
    "    word_input,\n",
    "    {'IE': train_encoded_list[0],\n",
    "     'NS': train_encoded_list[1],\n",
    "     'TF': train_encoded_list[2],\n",
    "     'JP': train_encoded_list[3],\n",
    "     },\n",
    "    validation_data=(\n",
    "        validX,\n",
    "        {'IE': valid_encoded_list[0],\n",
    "         'NS': valid_encoded_list[1],\n",
    "         'TF': valid_encoded_list[2],\n",
    "         'JP': valid_encoded_list[3],\n",
    "         }),\n",
    "    epochs=epochs,\n",
    "    batch_size=100,\n",
    "    callbacks=callbacks_list\n",
    ")"
   ]
  },
  {
   "cell_type": "code",
   "execution_count": 11,
   "metadata": {},
   "outputs": [
    {
     "data": {
      "image/png": "[encoded data removed]",
      "text/plain": [
       "<matplotlib.figure.Figure at 0x1a370601d0>"
      ]
     },
     "metadata": {},
     "output_type": "display_data"
    },
    {
     "data": {
      "image/png": "[encoded data removed]",
      "text/plain": [
       "<matplotlib.figure.Figure at 0x11411cf28>"
      ]
     },
     "metadata": {},
     "output_type": "display_data"
    },
    {
     "data": {
      "image/png": "[encoded data removed]",
      "text/plain": [
       "<matplotlib.figure.Figure at 0x1c3bc8d6d8>"
      ]
     },
     "metadata": {},
     "output_type": "display_data"
    },
    {
     "data": {
      "image/png": "[encoded data removed]",
      "text/plain": [
       "<matplotlib.figure.Figure at 0x1c3b0f0ef0>"
      ]
     },
     "metadata": {},
     "output_type": "display_data"
    }
   ],
   "source": [
    "plotting.plot_loss_acc (history)"
   ]
  },
  {
   "cell_type": "code",
   "execution_count": 12,
   "metadata": {},
   "outputs": [
    {
     "data": {
      "image/png": "[encoded data removed]",
      "text/plain": [
       "<matplotlib.figure.Figure at 0x1c3b2f2ef0>"
      ]
     },
     "metadata": {},
     "output_type": "display_data"
    },
    {
     "data": {
      "image/png": "[encoded data removed]",
      "text/plain": [
       "<matplotlib.figure.Figure at 0x1c3b2f2b70>"
      ]
     },
     "metadata": {},
     "output_type": "display_data"
    },
    {
     "data": {
      "image/png": "[encoded data removed]",
      "text/plain": [
       "<matplotlib.figure.Figure at 0x1c3b844550>"
      ]
     },
     "metadata": {},
     "output_type": "display_data"
    },
    {
     "data": {
      "image/png": "[encoded data removed]",
      "text/plain": [
       "<matplotlib.figure.Figure at 0x1c3b8d2f60>"
      ]
     },
     "metadata": {},
     "output_type": "display_data"
    }
   ],
   "source": [
    "plotting.plot_loss_acc(history, plot_type='acc')"
   ]
  },
  {
   "cell_type": "code",
   "execution_count": 13,
   "metadata": {},
   "outputs": [
    {
     "name": "stdout",
     "output_type": "stream",
     "text": [
      "1735/1735 [==============================] - 5s 3ms/step\n"
     ]
    },
    {
     "data": {
      "text/plain": [
       "[2.43347674007031,\n",
       " 0.5369299058268324,\n",
       " 0.4013967458899495,\n",
       " 0.6846709365116416,\n",
       " 0.6749520194977092,\n",
       " 0.7694524496707861,\n",
       " 0.8622478386510689,\n",
       " 0.582708933820642,\n",
       " 0.6017291066454192]"
      ]
     },
     "execution_count": 13,
     "metadata": {},
     "output_type": "execute_result"
    }
   ],
   "source": [
    "model.evaluate(testX,\n",
    "               {'IE': test_encoded_list[0],\n",
    "                'NS': test_encoded_list[1],\n",
    "                'TF': test_encoded_list[2],\n",
    "                'JP': test_encoded_list[3],\n",
    "                })"
   ]
  },
  {
   "cell_type": "code",
   "execution_count": 14,
   "metadata": {},
   "outputs": [],
   "source": [
    "#from keras.utils import plot_model\n",
    "#plot_model(model, to_file='RNN/RNN_model.png')"
   ]
  },
  {
   "cell_type": "code",
   "execution_count": 15,
   "metadata": {},
   "outputs": [
    {
     "name": "stdout",
     "output_type": "stream",
     "text": [
      "/Users/jinli/anaconda3/lib/python3.6/site-packages/h5py/__init__.py:34: FutureWarning: Conversion of the second argument of issubdtype from `float` to `np.floating` is deprecated. In future, it will be treated as `np.float64 == np.dtype(float).type`.\n",
      "  from ._conv import register_converters as _register_converters\n",
      "\u001b[33mW1229 22:27:36.315159 Reloader tf_logging.py:120] Found more than one graph event per run, or there was a metagraph containing a graph_def, as well as one or more graph events.  Overwriting the graph with the newest event.\n",
      "\u001b[0mWARNING: Logging before flag parsing goes to stderr.\n",
      "W1229 22:27:36.315159 123145350033408 tf_logging.py:120] Found more than one graph event per run, or there was a metagraph containing a graph_def, as well as one or more graph events.  Overwriting the graph with the newest event.\n",
      "\u001b[33mW1229 22:27:36.388645 Reloader tf_logging.py:120] Found more than one graph event per run, or there was a metagraph containing a graph_def, as well as one or more graph events.  Overwriting the graph with the newest event.\n",
      "\u001b[0mW1229 22:27:36.388645 123145350033408 tf_logging.py:120] Found more than one graph event per run, or there was a metagraph containing a graph_def, as well as one or more graph events.  Overwriting the graph with the newest event.\n",
      "\u001b[33mW1229 22:27:36.452978 Reloader tf_logging.py:120] Found more than one metagraph event per run. Overwriting the metagraph with the newest event.\n",
      "\u001b[0mW1229 22:27:36.452978 123145350033408 tf_logging.py:120] Found more than one metagraph event per run. Overwriting the metagraph with the newest event.\n",
      "\u001b[33mW1229 22:27:36.547520 Reloader tf_logging.py:120] Found more than one graph event per run, or there was a metagraph containing a graph_def, as well as one or more graph events.  Overwriting the graph with the newest event.\n",
      "\u001b[0mW1229 22:27:36.547519 123145350033408 tf_logging.py:120] Found more than one graph event per run, or there was a metagraph containing a graph_def, as well as one or more graph events.  Overwriting the graph with the newest event.\n",
      "\u001b[33mW1229 22:27:36.561497 Reloader tf_logging.py:120] Found more than one metagraph event per run. Overwriting the metagraph with the newest event.\n",
      "\u001b[0mW1229 22:27:36.561496 123145350033408 tf_logging.py:120] Found more than one metagraph event per run. Overwriting the metagraph with the newest event.\n",
      "TensorBoard 1.12.1 at http://Jins-MacBook-Pro.local:6006 (Press CTRL+C to quit)\n",
      "^C\n"
     ]
    }
   ],
   "source": [
    "!tensorboard --logdir=RNN/Logs\n",
    "# http://localhost:6006/"
   ]
  },
  {
   "cell_type": "code",
   "execution_count": null,
   "metadata": {},
   "outputs": [],
   "source": []
  },
  {
   "cell_type": "code",
   "execution_count": null,
   "metadata": {
    "collapsed": true
   },
   "outputs": [],
   "source": []
  },
  {
   "cell_type": "code",
   "execution_count": null,
   "metadata": {},
   "outputs": [],
   "source": []
  },
  {
   "cell_type": "code",
   "execution_count": null,
   "metadata": {},
   "outputs": [],
   "source": []
  },
  {
   "cell_type": "code",
   "execution_count": null,
   "metadata": {
    "collapsed": true
   },
   "outputs": [],
   "source": []
  },
  {
   "cell_type": "code",
   "execution_count": null,
   "metadata": {
    "collapsed": true
   },
   "outputs": [],
   "source": []
  }
 ],
 "metadata": {
  "kernelspec": {
   "display_name": "Python 3",
   "language": "python",
   "name": "python3"
  },
  "language_info": {
   "codemirror_mode": {
    "name": "ipython",
    "version": 3
   },
   "file_extension": ".py",
   "mimetype": "text/x-python",
   "name": "python",
   "nbconvert_exporter": "python",
   "pygments_lexer": "ipython3",
   "version": "3.6.3"
  },
  "toc": {
   "base_numbering": 1,
   "nav_menu": {},
   "number_sections": true,
   "sideBar": true,
   "skip_h1_title": false,
   "title_cell": "Table of Contents",
   "title_sidebar": "Contents",
   "toc_cell": false,
   "toc_position": {},
   "toc_section_display": true,
   "toc_window_display": false
  }
 },
 "nbformat": 4,
 "nbformat_minor": 2
}
