{
 "cells": [
  {
   "cell_type": "code",
   "execution_count": 1,
   "metadata": {},
   "outputs": [
    {
     "name": "stdout",
     "output_type": "stream",
     "text": [
      "Size of Train Set is: 5552\n",
      "Size of Validation Set is: 1388\n",
      "Size of Test Set is: 1735\n"
     ]
    }
   ],
   "source": [
    "import pandas as pd\n",
    "import numpy as np\n",
    "import sys\n",
    "sys.path.insert(0, '../preprocess')\n",
    "\n",
    "import preprocess as pre\n",
    "import embedding as em\n",
    "import plotting\n",
    "import matplotlib.pyplot as plt"
   ]
  },
  {
   "cell_type": "code",
   "execution_count": 3,
   "metadata": {},
   "outputs": [
    {
     "data": {
      "text/html": [
       "<div>\n",
       "<style>\n",
       "    .dataframe thead tr:only-child th {\n",
       "        text-align: right;\n",
       "    }\n",
       "\n",
       "    .dataframe thead th {\n",
       "        text-align: left;\n",
       "    }\n",
       "\n",
       "    .dataframe tbody tr th {\n",
       "        vertical-align: top;\n",
       "    }\n",
       "</style>\n",
       "<table border=\"1\" class=\"dataframe\">\n",
       "  <thead>\n",
       "    <tr style=\"text-align: right;\">\n",
       "      <th></th>\n",
       "      <th>type</th>\n",
       "      <th>posts</th>\n",
       "      <th>Average Words Per Comment</th>\n",
       "      <th>Variance of Word Counts</th>\n",
       "      <th>Cleaned Posts</th>\n",
       "      <th>IE</th>\n",
       "      <th>NS</th>\n",
       "      <th>TF</th>\n",
       "      <th>JP</th>\n",
       "      <th>Average Words Per Comment Scaled</th>\n",
       "      <th>Variance of Word Counts Scaled</th>\n",
       "    </tr>\n",
       "  </thead>\n",
       "  <tbody>\n",
       "    <tr>\n",
       "      <th>570</th>\n",
       "      <td>ISTP</td>\n",
       "      <td>'I journal. Only in times of severe depression...</td>\n",
       "      <td>33.54</td>\n",
       "      <td>64.4096</td>\n",
       "      <td>'i journal. only in times of severe depression...</td>\n",
       "      <td>I</td>\n",
       "      <td>S</td>\n",
       "      <td>T</td>\n",
       "      <td>P</td>\n",
       "      <td>1.441291</td>\n",
       "      <td>-1.493830</td>\n",
       "    </tr>\n",
       "    <tr>\n",
       "      <th>5719</th>\n",
       "      <td>ISFP</td>\n",
       "      <td>'So I've been noticing like the past week or s...</td>\n",
       "      <td>11.38</td>\n",
       "      <td>153.2704</td>\n",
       "      <td>'so i've been noticing like the past week or s...</td>\n",
       "      <td>I</td>\n",
       "      <td>S</td>\n",
       "      <td>F</td>\n",
       "      <td>P</td>\n",
       "      <td>-2.072472</td>\n",
       "      <td>0.318110</td>\n",
       "    </tr>\n",
       "    <tr>\n",
       "      <th>5649</th>\n",
       "      <td>ISFP</td>\n",
       "      <td>'4w5 and i'll still probably never completely ...</td>\n",
       "      <td>29.74</td>\n",
       "      <td>109.2816</td>\n",
       "      <td>' &lt;NUM&gt; w &lt;NUM&gt; and i'll still probably never ...</td>\n",
       "      <td>I</td>\n",
       "      <td>S</td>\n",
       "      <td>F</td>\n",
       "      <td>P</td>\n",
       "      <td>0.838750</td>\n",
       "      <td>-0.578855</td>\n",
       "    </tr>\n",
       "    <tr>\n",
       "      <th>860</th>\n",
       "      <td>INFP</td>\n",
       "      <td>'Even the loner gets lonely. I feel like it's ...</td>\n",
       "      <td>25.34</td>\n",
       "      <td>233.2576</td>\n",
       "      <td>'even the loner gets lonely. i feel like it's ...</td>\n",
       "      <td>I</td>\n",
       "      <td>N</td>\n",
       "      <td>F</td>\n",
       "      <td>P</td>\n",
       "      <td>0.141072</td>\n",
       "      <td>1.949110</td>\n",
       "    </tr>\n",
       "    <tr>\n",
       "      <th>4908</th>\n",
       "      <td>INTJ</td>\n",
       "      <td>'Count me in. Notification of new PM but there...</td>\n",
       "      <td>25.52</td>\n",
       "      <td>170.0900</td>\n",
       "      <td>'count me in. notification of new pm but there...</td>\n",
       "      <td>I</td>\n",
       "      <td>N</td>\n",
       "      <td>T</td>\n",
       "      <td>J</td>\n",
       "      <td>0.169613</td>\n",
       "      <td>0.661074</td>\n",
       "    </tr>\n",
       "  </tbody>\n",
       "</table>\n",
       "</div>"
      ],
      "text/plain": [
       "      type                                              posts  \\\n",
       "570   ISTP  'I journal. Only in times of severe depression...   \n",
       "5719  ISFP  'So I've been noticing like the past week or s...   \n",
       "5649  ISFP  '4w5 and i'll still probably never completely ...   \n",
       "860   INFP  'Even the loner gets lonely. I feel like it's ...   \n",
       "4908  INTJ  'Count me in. Notification of new PM but there...   \n",
       "\n",
       "      Average Words Per Comment  Variance of Word Counts  \\\n",
       "570                       33.54                  64.4096   \n",
       "5719                      11.38                 153.2704   \n",
       "5649                      29.74                 109.2816   \n",
       "860                       25.34                 233.2576   \n",
       "4908                      25.52                 170.0900   \n",
       "\n",
       "                                          Cleaned Posts IE NS TF JP  \\\n",
       "570   'i journal. only in times of severe depression...  I  S  T  P   \n",
       "5719  'so i've been noticing like the past week or s...  I  S  F  P   \n",
       "5649  ' <NUM> w <NUM> and i'll still probably never ...  I  S  F  P   \n",
       "860   'even the loner gets lonely. i feel like it's ...  I  N  F  P   \n",
       "4908  'count me in. notification of new pm but there...  I  N  T  J   \n",
       "\n",
       "      Average Words Per Comment Scaled  Variance of Word Counts Scaled  \n",
       "570                           1.441291                       -1.493830  \n",
       "5719                         -2.072472                        0.318110  \n",
       "5649                          0.838750                       -0.578855  \n",
       "860                           0.141072                        1.949110  \n",
       "4908                          0.169613                        0.661074  "
      ]
     },
     "execution_count": 3,
     "metadata": {},
     "output_type": "execute_result"
    }
   ],
   "source": [
    "train = pre.train\n",
    "valid = pre.valid\n",
    "test = pre.test\n",
    "\n",
    "train.head()"
   ]
  },
  {
   "cell_type": "code",
   "execution_count": 4,
   "metadata": {
    "collapsed": true
   },
   "outputs": [],
   "source": [
    "avg_word_col = train['Average Words Per Comment']\n",
    "\n",
    "# maximum number of words per person, the rest of the comment would be cut off\n",
    "#maxlen = round ((avg_word_col.mean() - 2 * avg_word_col.std()) * 50)\n",
    "maxlen = round (avg_word_col.mean()* 50)\n",
    "\n",
    "max_words = 10000 # maximum number of words in embedding\n",
    "embedding_dim = 100 # dimension of each word vector\n",
    "\n",
    "cleaned_posts = train['Cleaned Posts'].values"
   ]
  },
  {
   "cell_type": "code",
   "execution_count": 5,
   "metadata": {},
   "outputs": [
    {
     "name": "stdout",
     "output_type": "stream",
     "text": [
      "Found 400000 word vectors.\n"
     ]
    },
    {
     "name": "stderr",
     "output_type": "stream",
     "text": [
      "/Users/jinli/anaconda3/lib/python3.6/site-packages/h5py/__init__.py:34: FutureWarning: Conversion of the second argument of issubdtype from `float` to `np.floating` is deprecated. In future, it will be treated as `np.float64 == np.dtype(float).type`.\n",
      "  from ._conv import register_converters as _register_converters\n",
      "Using TensorFlow backend.\n"
     ]
    },
    {
     "name": "stdout",
     "output_type": "stream",
     "text": [
      "Found 86175 unique tokens.\n",
      "Found 43237 unique tokens.\n",
      "Found 47539 unique tokens.\n"
     ]
    }
   ],
   "source": [
    "embeddings_index = em.get_GloVe()\n",
    "word_input, word_index = em.map_words_to_int(\n",
    "    cleaned_posts,\n",
    "    max_words, \n",
    "    maxlen\n",
    ")\n",
    "\n",
    "validX, word_index_valid = em.map_words_to_int(\n",
    "    valid['Cleaned Posts'].values, \n",
    "    max_words,\n",
    "    maxlen\n",
    ")\n",
    "\n",
    "testX, word_index_valid = em.map_words_to_int(\n",
    "    test['Cleaned Posts'].values,\n",
    "    max_words,\n",
    "    maxlen\n",
    ")\n",
    "\n",
    "embedding_matrix = em.create_embedding_matrix (\n",
    "    word_index, \n",
    "    embeddings_index, \n",
    "    max_words, \n",
    "    embedding_dim\n",
    ")"
   ]
  },
  {
   "cell_type": "code",
   "execution_count": 6,
   "metadata": {},
   "outputs": [
    {
     "name": "stdout",
     "output_type": "stream",
     "text": [
      "__________________________________________________________________________________________________\n",
      "Layer (type)                    Output Shape         Param #     Connected to                     \n",
      "==================================================================================================\n",
      "text (InputLayer)               (None, None)         0                                            \n",
      "__________________________________________________________________________________________________\n",
      "Embedding (Embedding)           (None, 1223, 100)    1000000     text[0][0]                       \n",
      "__________________________________________________________________________________________________\n",
      "conv1d_1 (Conv1D)               (None, 1218, 32)     19232       Embedding[0][0]                  \n",
      "__________________________________________________________________________________________________\n",
      "max_pooling1d_1 (MaxPooling1D)  (None, 244, 32)      0           conv1d_1[0][0]                   \n",
      "__________________________________________________________________________________________________\n",
      "batch_normalization_1 (BatchNor (None, 244, 32)      128         max_pooling1d_1[0][0]            \n",
      "__________________________________________________________________________________________________\n",
      "separable_conv1d_1 (SeparableCo (None, 242, 64)      2208        batch_normalization_1[0][0]      \n",
      "__________________________________________________________________________________________________\n",
      "max_pooling1d_2 (MaxPooling1D)  (None, 61, 64)       0           separable_conv1d_1[0][0]         \n",
      "__________________________________________________________________________________________________\n",
      "batch_normalization_2 (BatchNor (None, 61, 64)       256         max_pooling1d_2[0][0]            \n",
      "__________________________________________________________________________________________________\n",
      "separable_conv1d_2 (SeparableCo (None, 59, 128)      8512        batch_normalization_2[0][0]      \n",
      "__________________________________________________________________________________________________\n",
      "max_pooling1d_3 (MaxPooling1D)  (None, 20, 128)      0           separable_conv1d_2[0][0]         \n",
      "__________________________________________________________________________________________________\n",
      "batch_normalization_3 (BatchNor (None, 20, 128)      512         max_pooling1d_3[0][0]            \n",
      "__________________________________________________________________________________________________\n",
      "separable_conv1d_3 (SeparableCo (None, 18, 256)      33408       batch_normalization_3[0][0]      \n",
      "__________________________________________________________________________________________________\n",
      "max_pooling1d_4 (MaxPooling1D)  (None, 6, 256)       0           separable_conv1d_3[0][0]         \n",
      "__________________________________________________________________________________________________\n",
      "separable_conv1d_4 (SeparableCo (None, 5, 256)       66304       max_pooling1d_4[0][0]            \n",
      "__________________________________________________________________________________________________\n",
      "max_pooling1d_5 (MaxPooling1D)  (None, 2, 256)       0           separable_conv1d_4[0][0]         \n",
      "__________________________________________________________________________________________________\n",
      "flatten_1 (Flatten)             (None, 512)          0           max_pooling1d_5[0][0]            \n",
      "__________________________________________________________________________________________________\n",
      "dense_1 (Dense)                 (None, 32)           16416       flatten_1[0][0]                  \n",
      "__________________________________________________________________________________________________\n",
      "dropout_1 (Dropout)             (None, 32)           0           dense_1[0][0]                    \n",
      "__________________________________________________________________________________________________\n",
      "IE (Dense)                      (None, 2)            66          dropout_1[0][0]                  \n",
      "__________________________________________________________________________________________________\n",
      "NS (Dense)                      (None, 2)            66          dropout_1[0][0]                  \n",
      "__________________________________________________________________________________________________\n",
      "TF (Dense)                      (None, 2)            66          dropout_1[0][0]                  \n",
      "__________________________________________________________________________________________________\n",
      "JP (Dense)                      (None, 2)            66          dropout_1[0][0]                  \n",
      "==================================================================================================\n",
      "Total params: 1,147,240\n",
      "Trainable params: 146,792\n",
      "Non-trainable params: 1,000,448\n",
      "__________________________________________________________________________________________________\n"
     ]
    }
   ],
   "source": [
    "from keras.models import Sequential\n",
    "from keras import layers\n",
    "from keras.layers import Input\n",
    "from keras.models import Model\n",
    "from keras.layers.normalization import BatchNormalization\n",
    "from keras import regularizers\n",
    "\n",
    "text_input = Input(shape=(None,), dtype='int32', name='text')\n",
    "embedding_text = layers.Embedding(\n",
    "    max_words, \n",
    "    embedding_dim, \n",
    "    input_length=maxlen,\n",
    "    name='Embedding'\n",
    ")(text_input)\n",
    "\n",
    "m = layers.Conv1D(32, 6, activation='relu')(embedding_text)\n",
    "m = layers.MaxPooling1D(5, padding=\"same\")(m)\n",
    "m = BatchNormalization()(m)\n",
    "\n",
    "m = layers.SeparableConv1D(64, 3, activation='relu')(m)\n",
    "m = layers.MaxPooling1D(4, padding=\"same\")(m)\n",
    "m = BatchNormalization()(m)\n",
    "\n",
    "m = layers.SeparableConv1D(128, 3, activation='relu')(m)\n",
    "m = layers.MaxPooling1D(3, padding=\"same\")(m)\n",
    "m = BatchNormalization()(m)\n",
    "\n",
    "m = layers.SeparableConv1D(256, 3, activation='relu')(m)\n",
    "m = layers.MaxPooling1D(3, padding=\"same\")(m)\n",
    "\n",
    "m = layers.SeparableConv1D(256, 2, activation='relu')(m)\n",
    "m = layers.MaxPooling1D(3, padding=\"same\")(m)\n",
    "\n",
    "m = layers.Flatten()(m)\n",
    "m = layers.Dense(32, activation='relu', kernel_regularizer=regularizers.l1(0.001))(m)\n",
    "m = layers.Dropout(.5)(m)\n",
    "\n",
    "IE = layers.Dense(2, activation='softmax', name=\"IE\")(m)\n",
    "NS = layers.Dense(2, activation='softmax', name=\"NS\")(m)\n",
    "TF = layers.Dense(2, activation='softmax', name=\"TF\")(m)\n",
    "JP = layers.Dense(2, activation='softmax', name=\"JP\")(m)\n",
    "#avg_word_input = Input(shape=(1,), dtype='float32', name=\"Average_Words_Per_Comment\")\n",
    "#avg_word_input = layers.Dense(32, activation='relu')(avg_word_input)\n",
    "\n",
    "#concat = layers.concatenate([m, avg_word_input], axis=-1)\n",
    "#answer = layers.Dense(2, activation='softmax')(concat)\n",
    "\n",
    "#model = Model([text_input, avg_word_input], answer)\n",
    "model = Model(text_input, [IE, NS, TF, JP])\n",
    "model.layers[1].set_weights([embedding_matrix])\n",
    "model.layers[1].trainable = False\n",
    "\n",
    "model.summary()"
   ]
  },
  {
   "cell_type": "code",
   "execution_count": 7,
   "metadata": {
    "collapsed": true
   },
   "outputs": [],
   "source": [
    "from keras.callbacks import ModelCheckpoint, LearningRateScheduler, \\\n",
    "    EarlyStopping, ReduceLROnPlateau, TensorBoard\n",
    "\n",
    "weight_path = \"{}_weights.best.hdf5\".format('1D_CNN/1D_CNN')\n",
    "\n",
    "checkpoint = ModelCheckpoint(\n",
    "    weight_path,\n",
    "    monitor='val_loss',\n",
    "    verbose=1,\n",
    "    save_best_only=True,\n",
    "    mode='min',\n",
    "    save_weights_only=True\n",
    ")\n",
    "\n",
    "tensorboard = TensorBoard(\n",
    "    log_dir='1D_CNN/Logs',\n",
    "    # couldn't get histogram to work\n",
    "    #histogram_freq=1, # records activation histogram every n epoch\n",
    "    # couldn't get the embedding to work\n",
    "    #embeddings_freq=1,\n",
    "    #embeddings_metadata='metadata.tsv',\n",
    "    #embeddings_data=validX\n",
    ")\n",
    "\n",
    "reduceLROnPlat = ReduceLROnPlateau(\n",
    "    monitor='val_loss', \n",
    "    factor=0.2,\n",
    "    patience=1, \n",
    "    verbose=1,\n",
    "    mode='min',\n",
    "    min_delta=0.0001, \n",
    "    cooldown=2, \n",
    "    min_lr=1e-7\n",
    ")\n",
    "\n",
    "\n",
    "def step_decay(epoch):\n",
    "    initial_lrate = 0.0001\n",
    "    drop = 0.5\n",
    "    epochs_drop = 10.0\n",
    "    lrate = initial_lrate * math.pow(drop, math.floor((1+epoch)/epochs_drop))\n",
    "    return lrate\n",
    "\n",
    "\n",
    "lrate = LearningRateScheduler(step_decay)  # can place this in call_backs_list\n",
    "\n",
    "early = EarlyStopping(\n",
    "    monitor=\"val_loss\",\n",
    "    #monitor='acc'\n",
    "    mode=\"min\",\n",
    "    verbose=2,\n",
    "    # training is interrupted when the monitor argument stops improving after n steps\n",
    "    patience=3\n",
    ")\n",
    "\n",
    "callbacks_list = [checkpoint, early, reduceLROnPlat, tensorboard]\n",
    "#callbacks_list = [early]"
   ]
  },
  {
   "cell_type": "code",
   "execution_count": 8,
   "metadata": {
    "collapsed": true
   },
   "outputs": [],
   "source": [
    "model.compile(\n",
    "    # optimizer='sgd',\n",
    "    optimizer='rmsprop',\n",
    "    loss={'IE': 'binary_crossentropy',\n",
    "          'NS': 'binary_crossentropy',\n",
    "          'TF': 'binary_crossentropy',\n",
    "          'JP': 'binary_crossentropy',\n",
    "          },\n",
    "    metrics=['acc']\n",
    ")"
   ]
  },
  {
   "cell_type": "code",
   "execution_count": 9,
   "metadata": {},
   "outputs": [
    {
     "name": "stdout",
     "output_type": "stream",
     "text": [
      "['E' 'I']\n",
      "['N' 'S']\n",
      "['F' 'T']\n",
      "['J' 'P']\n"
     ]
    }
   ],
   "source": [
    "def encode_labels(train, valid, test, labels):\n",
    "    from keras.utils import to_categorical\n",
    "    from sklearn.preprocessing import LabelEncoder\n",
    "\n",
    "    train_encoded_list = []\n",
    "    valid_encoded_list = []\n",
    "    test_encoded_list = []\n",
    "    for label in labels:\n",
    "        lab_encoder_trait = LabelEncoder()\n",
    "\n",
    "        train_label_trait = train[label]\n",
    "        valid_label_trait = valid[label]\n",
    "        test_label_trait = test[label]\n",
    "\n",
    "        label_encoded = lab_encoder_trait.fit_transform(train_label_trait)\n",
    "        label_encoded = to_categorical(label_encoded)\n",
    "        train_encoded_list.append(label_encoded)\n",
    "\n",
    "        label_encoded = lab_encoder_trait.fit_transform(valid_label_trait)\n",
    "        label_encoded = to_categorical(label_encoded)\n",
    "        valid_encoded_list.append(label_encoded)\n",
    "\n",
    "        label_encoded = lab_encoder_trait.fit_transform(test_label_trait)\n",
    "        label_encoded = to_categorical(label_encoded)\n",
    "        test_encoded_list.append(label_encoded)\n",
    "\n",
    "        print(lab_encoder_trait.classes_)\n",
    "\n",
    "    return (train_encoded_list, valid_encoded_list, test_encoded_list)\n",
    "\n",
    "\n",
    "(train_encoded_list,\n",
    " valid_encoded_list,\n",
    " test_encoded_list) = encode_labels(train, valid, test, ['IE', 'NS', 'TF', 'JP'])"
   ]
  },
  {
   "cell_type": "code",
   "execution_count": 10,
   "metadata": {
    "collapsed": true
   },
   "outputs": [],
   "source": [
    "epochs = 10\n",
    "batch_size = 100"
   ]
  },
  {
   "cell_type": "code",
   "execution_count": 11,
   "metadata": {},
   "outputs": [
    {
     "name": "stdout",
     "output_type": "stream",
     "text": [
      "Train on 5552 samples, validate on 1388 samples\n",
      "Epoch 1/10\n",
      "5552/5552 [==============================] - 32s 6ms/step - loss: 2.9107 - IE_loss: 0.5664 - NS_loss: 0.4807 - TF_loss: 0.7036 - JP_loss: 0.6879 - IE_acc: 0.7669 - NS_acc: 0.8480 - TF_acc: 0.5047 - JP_acc: 0.5704 - val_loss: 2.6648 - val_IE_loss: 0.5886 - val_NS_loss: 0.4867 - val_TF_loss: 0.6919 - val_JP_loss: 0.6712 - val_IE_acc: 0.7442 - val_NS_acc: 0.8689 - val_TF_acc: 0.5223 - val_JP_acc: 0.6232\n",
      "\n",
      "Epoch 00001: val_loss improved from inf to 2.66479, saving model to 1D_CNN/1D_CNN_weights.best.hdf5\n",
      "Epoch 2/10\n",
      "5552/5552 [==============================] - 31s 6ms/step - loss: 2.4253 - IE_loss: 0.5358 - NS_loss: 0.4111 - TF_loss: 0.6546 - JP_loss: 0.6866 - IE_acc: 0.7714 - NS_acc: 0.8615 - TF_acc: 0.6009 - JP_acc: 0.5798 - val_loss: 2.5204 - val_IE_loss: 0.5898 - val_NS_loss: 0.4656 - val_TF_loss: 0.6955 - val_JP_loss: 0.6734 - val_IE_acc: 0.7442 - val_NS_acc: 0.8689 - val_TF_acc: 0.4950 - val_JP_acc: 0.6232\n",
      "\n",
      "Epoch 00002: val_loss improved from 2.66479 to 2.52041, saving model to 1D_CNN/1D_CNN_weights.best.hdf5\n",
      "Epoch 3/10\n",
      "5552/5552 [==============================] - 32s 6ms/step - loss: 2.2489 - IE_loss: 0.5171 - NS_loss: 0.3916 - TF_loss: 0.5702 - JP_loss: 0.6842 - IE_acc: 0.7734 - NS_acc: 0.8615 - TF_acc: 0.7158 - JP_acc: 0.5796 - val_loss: 2.6206 - val_IE_loss: 0.6340 - val_NS_loss: 0.5336 - val_TF_loss: 0.6945 - val_JP_loss: 0.6812 - val_IE_acc: 0.7442 - val_NS_acc: 0.8689 - val_TF_acc: 0.4841 - val_JP_acc: 0.6232\n",
      "\n",
      "Epoch 00003: val_loss did not improve from 2.52041\n",
      "\n",
      "Epoch 00003: ReduceLROnPlateau reducing learning rate to 0.00020000000949949026.\n",
      "Epoch 4/10\n",
      "5552/5552 [==============================] - 31s 6ms/step - loss: 2.1327 - IE_loss: 0.5024 - NS_loss: 0.3683 - TF_loss: 0.5083 - JP_loss: 0.6824 - IE_acc: 0.7747 - NS_acc: 0.8615 - TF_acc: 0.7689 - JP_acc: 0.5839 - val_loss: 2.5531 - val_IE_loss: 0.6066 - val_NS_loss: 0.4731 - val_TF_loss: 0.7242 - val_JP_loss: 0.6789 - val_IE_acc: 0.7442 - val_NS_acc: 0.8689 - val_TF_acc: 0.4820 - val_JP_acc: 0.6232\n",
      "\n",
      "Epoch 00004: val_loss did not improve from 2.52041\n",
      "Epoch 5/10\n",
      "5552/5552 [==============================] - 31s 6ms/step - loss: 2.0924 - IE_loss: 0.4957 - NS_loss: 0.3597 - TF_loss: 0.4855 - JP_loss: 0.6823 - IE_acc: 0.7749 - NS_acc: 0.8615 - TF_acc: 0.7855 - JP_acc: 0.5785 - val_loss: 2.6154 - val_IE_loss: 0.5713 - val_NS_loss: 0.3932 - val_TF_loss: 0.9058 - val_JP_loss: 0.6765 - val_IE_acc: 0.7442 - val_NS_acc: 0.8689 - val_TF_acc: 0.4755 - val_JP_acc: 0.6232\n",
      "\n",
      "Epoch 00005: val_loss did not improve from 2.52041\n",
      "\n",
      "Epoch 00005: ReduceLROnPlateau reducing learning rate to 4.0000001899898055e-05.\n",
      "Epoch 00005: early stopping\n"
     ]
    }
   ],
   "source": [
    "history = model.fit(\n",
    "    word_input,\n",
    "    {'IE': train_encoded_list[0],\n",
    "     'NS': train_encoded_list[1],\n",
    "     'TF': train_encoded_list[2],\n",
    "     'JP': train_encoded_list[3],\n",
    "     },\n",
    "    validation_data=(\n",
    "        validX,\n",
    "        {'IE': valid_encoded_list[0],\n",
    "         'NS': valid_encoded_list[1],\n",
    "         'TF': valid_encoded_list[2],\n",
    "         'JP': valid_encoded_list[3],\n",
    "         }),\n",
    "    epochs=epochs,\n",
    "    batch_size=100,\n",
    "    callbacks=callbacks_list\n",
    ")"
   ]
  },
  {
   "cell_type": "code",
   "execution_count": 12,
   "metadata": {},
   "outputs": [
    {
     "data": {
      "image/png": "[encoded data removed]",
      "text/plain": [
       "<matplotlib.figure.Figure at 0x1a30f91dd8>"
      ]
     },
     "metadata": {},
     "output_type": "display_data"
    },
    {
     "data": {
      "image/png": "[encoded data removed]",
      "text/plain": [
       "<matplotlib.figure.Figure at 0x1a30f91ef0>"
      ]
     },
     "metadata": {},
     "output_type": "display_data"
    },
    {
     "data": {
      "image/png": "[encoded data removed]",
      "text/plain": [
       "<matplotlib.figure.Figure at 0x1c3347a320>"
      ]
     },
     "metadata": {},
     "output_type": "display_data"
    },
    {
     "data": {
      "image/png": "[encoded data removed]",
      "text/plain": [
       "<matplotlib.figure.Figure at 0x1c33614a90>"
      ]
     },
     "metadata": {},
     "output_type": "display_data"
    }
   ],
   "source": [
    "plotting.plot_loss_acc (history)"
   ]
  },
  {
   "cell_type": "code",
   "execution_count": 13,
   "metadata": {},
   "outputs": [
    {
     "data": {
      "image/png": "[encoded data removed]",
      "text/plain": [
       "<matplotlib.figure.Figure at 0x1c334aef28>"
      ]
     },
     "metadata": {},
     "output_type": "display_data"
    },
    {
     "data": {
      "image/png": "[encoded data removed]",
      "text/plain": [
       "<matplotlib.figure.Figure at 0x1a30f91c18>"
      ]
     },
     "metadata": {},
     "output_type": "display_data"
    },
    {
     "data": {
      "image/png": "[encoded data removed]",
      "text/plain": [
       "<matplotlib.figure.Figure at 0x1c3340a6a0>"
      ]
     },
     "metadata": {},
     "output_type": "display_data"
    },
    {
     "data": {
      "image/png": "[encoded data removed]",
      "text/plain": [
       "<matplotlib.figure.Figure at 0x1c33165940>"
      ]
     },
     "metadata": {},
     "output_type": "display_data"
    }
   ],
   "source": [
    "plotting.plot_loss_acc(history, plot_type='acc')"
   ]
  },
  {
   "cell_type": "code",
   "execution_count": 14,
   "metadata": {},
   "outputs": [
    {
     "name": "stdout",
     "output_type": "stream",
     "text": [
      "1735/1735 [==============================] - 5s 3ms/step\n"
     ]
    },
    {
     "data": {
      "text/plain": [
       "[2.602628459985387,\n",
       " 0.5390147917208823,\n",
       " 0.4021755351456854,\n",
       " 0.913538997283243,\n",
       " 0.6793330629895675,\n",
       " 0.7694524496707861,\n",
       " 0.8622478386510689,\n",
       " 0.4593659943050198,\n",
       " 0.6046109510258226]"
      ]
     },
     "execution_count": 14,
     "metadata": {},
     "output_type": "execute_result"
    }
   ],
   "source": [
    "model.evaluate(testX,\n",
    "               {'IE': test_encoded_list[0],\n",
    "                'NS': test_encoded_list[1],\n",
    "                'TF': test_encoded_list[2],\n",
    "                'JP': test_encoded_list[3],\n",
    "                })"
   ]
  },
  {
   "cell_type": "code",
   "execution_count": 21,
   "metadata": {},
   "outputs": [],
   "source": [
    "# !tensorboard --logdir=Logs\n",
    "# http://localhost:6006/"
   ]
  },
  {
   "cell_type": "code",
   "execution_count": 22,
   "metadata": {},
   "outputs": [
    {
     "ename": "OSError",
     "evalue": "`pydot` failed to call GraphViz.Please install GraphViz (https://www.graphviz.org/) and ensure that its executables are in the $PATH.",
     "output_type": "error",
     "traceback": [
      "\u001b[0;31m---------------------------------------------------------------------------\u001b[0m",
      "\u001b[0;31mFileNotFoundError\u001b[0m                         Traceback (most recent call last)",
      "\u001b[0;32m~/anaconda3/lib/python3.6/site-packages/pydot.py\u001b[0m in \u001b[0;36mcreate\u001b[0;34m(self, prog, format, encoding)\u001b[0m\n\u001b[1;32m   1914\u001b[0m                 \u001b[0marguments\u001b[0m\u001b[0;34m=\u001b[0m\u001b[0marguments\u001b[0m\u001b[0;34m,\u001b[0m\u001b[0;34m\u001b[0m\u001b[0m\n\u001b[0;32m-> 1915\u001b[0;31m                 \u001b[0mworking_dir\u001b[0m\u001b[0;34m=\u001b[0m\u001b[0mtmp_dir\u001b[0m\u001b[0;34m,\u001b[0m\u001b[0;34m\u001b[0m\u001b[0m\n\u001b[0m\u001b[1;32m   1916\u001b[0m             )\n",
      "\u001b[0;32m~/anaconda3/lib/python3.6/site-packages/pydot.py\u001b[0m in \u001b[0;36mcall_graphviz\u001b[0;34m(program, arguments, working_dir, **kwargs)\u001b[0m\n\u001b[1;32m    135\u001b[0m         \u001b[0mstdout\u001b[0m\u001b[0;34m=\u001b[0m\u001b[0msubprocess\u001b[0m\u001b[0;34m.\u001b[0m\u001b[0mPIPE\u001b[0m\u001b[0;34m,\u001b[0m\u001b[0;34m\u001b[0m\u001b[0m\n\u001b[0;32m--> 136\u001b[0;31m         \u001b[0;34m**\u001b[0m\u001b[0mkwargs\u001b[0m\u001b[0;34m\u001b[0m\u001b[0m\n\u001b[0m\u001b[1;32m    137\u001b[0m     )\n",
      "\u001b[0;32m~/anaconda3/lib/python3.6/subprocess.py\u001b[0m in \u001b[0;36m__init__\u001b[0;34m(self, args, bufsize, executable, stdin, stdout, stderr, preexec_fn, close_fds, shell, cwd, env, universal_newlines, startupinfo, creationflags, restore_signals, start_new_session, pass_fds, encoding, errors)\u001b[0m\n\u001b[1;32m    708\u001b[0m                                 \u001b[0merrread\u001b[0m\u001b[0;34m,\u001b[0m \u001b[0merrwrite\u001b[0m\u001b[0;34m,\u001b[0m\u001b[0;34m\u001b[0m\u001b[0m\n\u001b[0;32m--> 709\u001b[0;31m                                 restore_signals, start_new_session)\n\u001b[0m\u001b[1;32m    710\u001b[0m         \u001b[0;32mexcept\u001b[0m\u001b[0;34m:\u001b[0m\u001b[0;34m\u001b[0m\u001b[0m\n",
      "\u001b[0;32m~/anaconda3/lib/python3.6/subprocess.py\u001b[0m in \u001b[0;36m_execute_child\u001b[0;34m(self, args, executable, preexec_fn, close_fds, pass_fds, cwd, env, startupinfo, creationflags, shell, p2cread, p2cwrite, c2pread, c2pwrite, errread, errwrite, restore_signals, start_new_session)\u001b[0m\n\u001b[1;32m   1343\u001b[0m                             \u001b[0merr_msg\u001b[0m \u001b[0;34m+=\u001b[0m \u001b[0;34m': '\u001b[0m \u001b[0;34m+\u001b[0m \u001b[0mrepr\u001b[0m\u001b[0;34m(\u001b[0m\u001b[0merr_filename\u001b[0m\u001b[0;34m)\u001b[0m\u001b[0;34m\u001b[0m\u001b[0m\n\u001b[0;32m-> 1344\u001b[0;31m                     \u001b[0;32mraise\u001b[0m \u001b[0mchild_exception_type\u001b[0m\u001b[0;34m(\u001b[0m\u001b[0merrno_num\u001b[0m\u001b[0;34m,\u001b[0m \u001b[0merr_msg\u001b[0m\u001b[0;34m,\u001b[0m \u001b[0merr_filename\u001b[0m\u001b[0;34m)\u001b[0m\u001b[0;34m\u001b[0m\u001b[0m\n\u001b[0m\u001b[1;32m   1345\u001b[0m                 \u001b[0;32mraise\u001b[0m \u001b[0mchild_exception_type\u001b[0m\u001b[0;34m(\u001b[0m\u001b[0merr_msg\u001b[0m\u001b[0;34m)\u001b[0m\u001b[0;34m\u001b[0m\u001b[0m\n",
      "\u001b[0;31mFileNotFoundError\u001b[0m: [Errno 2] No such file or directory: 'dot': 'dot'",
      "\nDuring handling of the above exception, another exception occurred:\n",
      "\u001b[0;31mFileNotFoundError\u001b[0m                         Traceback (most recent call last)",
      "\u001b[0;32m~/anaconda3/lib/python3.6/site-packages/keras/utils/vis_utils.py\u001b[0m in \u001b[0;36m_check_pydot\u001b[0;34m()\u001b[0m\n\u001b[1;32m     25\u001b[0m         \u001b[0;31m# to check the pydot/graphviz installation.\u001b[0m\u001b[0;34m\u001b[0m\u001b[0;34m\u001b[0m\u001b[0m\n\u001b[0;32m---> 26\u001b[0;31m         \u001b[0mpydot\u001b[0m\u001b[0;34m.\u001b[0m\u001b[0mDot\u001b[0m\u001b[0;34m.\u001b[0m\u001b[0mcreate\u001b[0m\u001b[0;34m(\u001b[0m\u001b[0mpydot\u001b[0m\u001b[0;34m.\u001b[0m\u001b[0mDot\u001b[0m\u001b[0;34m(\u001b[0m\u001b[0;34m)\u001b[0m\u001b[0;34m)\u001b[0m\u001b[0;34m\u001b[0m\u001b[0m\n\u001b[0m\u001b[1;32m     27\u001b[0m     \u001b[0;32mexcept\u001b[0m \u001b[0mOSError\u001b[0m\u001b[0;34m:\u001b[0m\u001b[0;34m\u001b[0m\u001b[0m\n",
      "\u001b[0;32m~/anaconda3/lib/python3.6/site-packages/pydot.py\u001b[0m in \u001b[0;36mcreate\u001b[0;34m(self, prog, format, encoding)\u001b[0m\n\u001b[1;32m   1921\u001b[0m                     prog=prog)\n\u001b[0;32m-> 1922\u001b[0;31m                 \u001b[0;32mraise\u001b[0m \u001b[0mOSError\u001b[0m\u001b[0;34m(\u001b[0m\u001b[0;34m*\u001b[0m\u001b[0margs\u001b[0m\u001b[0;34m)\u001b[0m\u001b[0;34m\u001b[0m\u001b[0m\n\u001b[0m\u001b[1;32m   1923\u001b[0m             \u001b[0;32melse\u001b[0m\u001b[0;34m:\u001b[0m\u001b[0;34m\u001b[0m\u001b[0m\n",
      "\u001b[0;31mFileNotFoundError\u001b[0m: [Errno 2] \"dot\" not found in path.",
      "\nDuring handling of the above exception, another exception occurred:\n",
      "\u001b[0;31mOSError\u001b[0m                                   Traceback (most recent call last)",
      "\u001b[0;32m<ipython-input-22-d5c928e88ecd>\u001b[0m in \u001b[0;36m<module>\u001b[0;34m()\u001b[0m\n\u001b[1;32m      1\u001b[0m \u001b[0;32mfrom\u001b[0m \u001b[0mkeras\u001b[0m\u001b[0;34m.\u001b[0m\u001b[0mutils\u001b[0m \u001b[0;32mimport\u001b[0m \u001b[0mplot_model\u001b[0m\u001b[0;34m\u001b[0m\u001b[0m\n\u001b[0;32m----> 2\u001b[0;31m \u001b[0mplot_model\u001b[0m\u001b[0;34m(\u001b[0m\u001b[0mmodel\u001b[0m\u001b[0;34m,\u001b[0m \u001b[0mto_file\u001b[0m\u001b[0;34m=\u001b[0m\u001b[0;34m'1D_CNN/1D_CNN_model.png'\u001b[0m\u001b[0;34m)\u001b[0m\u001b[0;34m\u001b[0m\u001b[0m\n\u001b[0m",
      "\u001b[0;32m~/anaconda3/lib/python3.6/site-packages/keras/utils/vis_utils.py\u001b[0m in \u001b[0;36mplot_model\u001b[0;34m(model, to_file, show_shapes, show_layer_names, rankdir)\u001b[0m\n\u001b[1;32m    130\u001b[0m             \u001b[0;34m'LR'\u001b[0m \u001b[0mcreates\u001b[0m \u001b[0ma\u001b[0m \u001b[0mhorizontal\u001b[0m \u001b[0mplot\u001b[0m\u001b[0;34m.\u001b[0m\u001b[0;34m\u001b[0m\u001b[0m\n\u001b[1;32m    131\u001b[0m     \"\"\"\n\u001b[0;32m--> 132\u001b[0;31m     \u001b[0mdot\u001b[0m \u001b[0;34m=\u001b[0m \u001b[0mmodel_to_dot\u001b[0m\u001b[0;34m(\u001b[0m\u001b[0mmodel\u001b[0m\u001b[0;34m,\u001b[0m \u001b[0mshow_shapes\u001b[0m\u001b[0;34m,\u001b[0m \u001b[0mshow_layer_names\u001b[0m\u001b[0;34m,\u001b[0m \u001b[0mrankdir\u001b[0m\u001b[0;34m)\u001b[0m\u001b[0;34m\u001b[0m\u001b[0m\n\u001b[0m\u001b[1;32m    133\u001b[0m     \u001b[0m_\u001b[0m\u001b[0;34m,\u001b[0m \u001b[0mextension\u001b[0m \u001b[0;34m=\u001b[0m \u001b[0mos\u001b[0m\u001b[0;34m.\u001b[0m\u001b[0mpath\u001b[0m\u001b[0;34m.\u001b[0m\u001b[0msplitext\u001b[0m\u001b[0;34m(\u001b[0m\u001b[0mto_file\u001b[0m\u001b[0;34m)\u001b[0m\u001b[0;34m\u001b[0m\u001b[0m\n\u001b[1;32m    134\u001b[0m     \u001b[0;32mif\u001b[0m \u001b[0;32mnot\u001b[0m \u001b[0mextension\u001b[0m\u001b[0;34m:\u001b[0m\u001b[0;34m\u001b[0m\u001b[0m\n",
      "\u001b[0;32m~/anaconda3/lib/python3.6/site-packages/keras/utils/vis_utils.py\u001b[0m in \u001b[0;36mmodel_to_dot\u001b[0;34m(model, show_shapes, show_layer_names, rankdir)\u001b[0m\n\u001b[1;32m     53\u001b[0m     \u001b[0;32mfrom\u001b[0m \u001b[0;34m.\u001b[0m\u001b[0;34m.\u001b[0m\u001b[0mmodels\u001b[0m \u001b[0;32mimport\u001b[0m \u001b[0mSequential\u001b[0m\u001b[0;34m\u001b[0m\u001b[0m\n\u001b[1;32m     54\u001b[0m \u001b[0;34m\u001b[0m\u001b[0m\n\u001b[0;32m---> 55\u001b[0;31m     \u001b[0m_check_pydot\u001b[0m\u001b[0;34m(\u001b[0m\u001b[0;34m)\u001b[0m\u001b[0;34m\u001b[0m\u001b[0m\n\u001b[0m\u001b[1;32m     56\u001b[0m     \u001b[0mdot\u001b[0m \u001b[0;34m=\u001b[0m \u001b[0mpydot\u001b[0m\u001b[0;34m.\u001b[0m\u001b[0mDot\u001b[0m\u001b[0;34m(\u001b[0m\u001b[0;34m)\u001b[0m\u001b[0;34m\u001b[0m\u001b[0m\n\u001b[1;32m     57\u001b[0m     \u001b[0mdot\u001b[0m\u001b[0;34m.\u001b[0m\u001b[0mset\u001b[0m\u001b[0;34m(\u001b[0m\u001b[0;34m'rankdir'\u001b[0m\u001b[0;34m,\u001b[0m \u001b[0mrankdir\u001b[0m\u001b[0;34m)\u001b[0m\u001b[0;34m\u001b[0m\u001b[0m\n",
      "\u001b[0;32m~/anaconda3/lib/python3.6/site-packages/keras/utils/vis_utils.py\u001b[0m in \u001b[0;36m_check_pydot\u001b[0;34m()\u001b[0m\n\u001b[1;32m     27\u001b[0m     \u001b[0;32mexcept\u001b[0m \u001b[0mOSError\u001b[0m\u001b[0;34m:\u001b[0m\u001b[0;34m\u001b[0m\u001b[0m\n\u001b[1;32m     28\u001b[0m         raise OSError(\n\u001b[0;32m---> 29\u001b[0;31m             \u001b[0;34m'`pydot` failed to call GraphViz.'\u001b[0m\u001b[0;34m\u001b[0m\u001b[0m\n\u001b[0m\u001b[1;32m     30\u001b[0m             \u001b[0;34m'Please install GraphViz (https://www.graphviz.org/) '\u001b[0m\u001b[0;34m\u001b[0m\u001b[0m\n\u001b[1;32m     31\u001b[0m             'and ensure that its executables are in the $PATH.')\n",
      "\u001b[0;31mOSError\u001b[0m: `pydot` failed to call GraphViz.Please install GraphViz (https://www.graphviz.org/) and ensure that its executables are in the $PATH."
     ]
    }
   ],
   "source": [
    "from keras.utils import plot_model\n",
    "plot_model(model, to_file='1D_CNN/1D_CNN_model.png')"
   ]
  },
  {
   "cell_type": "code",
   "execution_count": 17,
   "metadata": {},
   "outputs": [
    {
     "name": "stdout",
     "output_type": "stream",
     "text": [
      "\n"
     ]
    }
   ],
   "source": [
    "\"\"\"\n",
    "Problems to consider:\n",
    "- allowing the first layer to be trained will overfit\n",
    "- but freezing that layer will produce little change in validation accuracy\n",
    "\"\"\"\n",
    "print ('')"
   ]
  },
  {
   "cell_type": "code",
   "execution_count": null,
   "metadata": {
    "collapsed": true
   },
   "outputs": [],
   "source": []
  }
 ],
 "metadata": {
  "kernelspec": {
   "display_name": "Python 3",
   "language": "python",
   "name": "python3"
  },
  "language_info": {
   "codemirror_mode": {
    "name": "ipython",
    "version": 3
   },
   "file_extension": ".py",
   "mimetype": "text/x-python",
   "name": "python",
   "nbconvert_exporter": "python",
   "pygments_lexer": "ipython3",
   "version": "3.6.3"
  },
  "toc": {
   "base_numbering": 1,
   "nav_menu": {},
   "number_sections": true,
   "sideBar": true,
   "skip_h1_title": false,
   "title_cell": "Table of Contents",
   "title_sidebar": "Contents",
   "toc_cell": false,
   "toc_position": {},
   "toc_section_display": true,
   "toc_window_display": false
  }
 },
 "nbformat": 4,
 "nbformat_minor": 2
}
